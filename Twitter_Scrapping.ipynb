{
 "cells": [
  {
   "cell_type": "markdown",
   "metadata": {},
   "source": [
    "### Scrapping tweets from twitter "
   ]
  },
  {
   "cell_type": "markdown",
   "metadata": {},
   "source": [
    "#### Importing libraries"
   ]
  },
  {
   "cell_type": "code",
   "execution_count": 5,
   "metadata": {},
   "outputs": [],
   "source": [
    "import tweepy\n",
    "import pandas as pd\n",
    "from tweepy.auth import OAuthHandler"
   ]
  },
  {
   "cell_type": "markdown",
   "metadata": {},
   "source": [
    "#### user credentials to authenticate API"
   ]
  },
  {
   "cell_type": "code",
   "execution_count": 6,
   "metadata": {},
   "outputs": [],
   "source": [
    "_consumer_key = \"Your code\"\n",
    "_consumer_secret = \"Your code\"\n",
    "_access_token = \"Your code\"\n",
    "_access_token_secret = \"Your code\""
   ]
  },
  {
   "cell_type": "code",
   "execution_count": 7,
   "metadata": {},
   "outputs": [],
   "source": [
    "auth = OAuthHandler(_consumer_key, _consumer_secret)\n",
    "auth.set_access_token(_access_token, _access_token_secret)\n",
    "api = tweepy.API(auth)"
   ]
  },
  {
   "cell_type": "code",
   "execution_count": 8,
   "metadata": {},
   "outputs": [
    {
     "name": "stdout",
     "output_type": "stream",
     "text": [
      "Authentication OK\n"
     ]
    }
   ],
   "source": [
    "try:\n",
    "    api.verify_credentials()\n",
    "    print(\"Authentication OK\")\n",
    "except:\n",
    "    print(\"Error during authentication\")"
   ]
  },
  {
   "cell_type": "markdown",
   "metadata": {},
   "source": [
    "### Specifying what tweets to scrap"
   ]
  },
  {
   "cell_type": "code",
   "execution_count": 15,
   "metadata": {},
   "outputs": [],
   "source": [
    "search_word = 'Elon Musk'\n",
    "date_since = '2021-02-25'\n",
    "count= 100"
   ]
  },
  {
   "cell_type": "markdown",
   "metadata": {},
   "source": [
    "### Creation of query method using parameters"
   ]
  },
  {
   "cell_type": "code",
   "execution_count": 27,
   "metadata": {},
   "outputs": [],
   "source": [
    "tweets = tweepy.Cursor(api.search, q = search_word, lang='en', since = date_since).items(count)\n",
    "\n",
    "tweet_details = [[tweet.id,tweet.user.screen_name,tweet.created_at,tweet.text] \n",
    "                 for tweet in tweets]"
   ]
  },
  {
   "cell_type": "markdown",
   "metadata": {},
   "source": [
    "### Creation of dataframe from tweets list"
   ]
  },
  {
   "cell_type": "code",
   "execution_count": 28,
   "metadata": {},
   "outputs": [],
   "source": [
    "df = pd.DataFrame(data= tweet_details,columns=['ID','User Name','Date Time','Actual tweet'])\n",
    "df.to_csv('Scrapped_elonmusk_tweets.csv')"
   ]
  },
  {
   "cell_type": "code",
   "execution_count": 29,
   "metadata": {},
   "outputs": [
    {
     "data": {
      "text/html": [
       "<div>\n",
       "<style scoped>\n",
       "    .dataframe tbody tr th:only-of-type {\n",
       "        vertical-align: middle;\n",
       "    }\n",
       "\n",
       "    .dataframe tbody tr th {\n",
       "        vertical-align: top;\n",
       "    }\n",
       "\n",
       "    .dataframe thead th {\n",
       "        text-align: right;\n",
       "    }\n",
       "</style>\n",
       "<table border=\"1\" class=\"dataframe\">\n",
       "  <thead>\n",
       "    <tr style=\"text-align: right;\">\n",
       "      <th></th>\n",
       "      <th>ID</th>\n",
       "      <th>User Name</th>\n",
       "      <th>Date Time</th>\n",
       "      <th>Actual tweet</th>\n",
       "    </tr>\n",
       "  </thead>\n",
       "  <tbody>\n",
       "    <tr>\n",
       "      <th>0</th>\n",
       "      <td>1365486858990473221</td>\n",
       "      <td>Cesar17569880</td>\n",
       "      <td>2021-02-27 02:20:11</td>\n",
       "      <td>@nypost Who cares what she thinks.. its not li...</td>\n",
       "    </tr>\n",
       "    <tr>\n",
       "      <th>1</th>\n",
       "      <td>1365486848852721664</td>\n",
       "      <td>globalfirstnews</td>\n",
       "      <td>2021-02-27 02:20:08</td>\n",
       "      <td>SpaceX is about to reattempt a high-altitude f...</td>\n",
       "    </tr>\n",
       "    <tr>\n",
       "      <th>2</th>\n",
       "      <td>1365486811796021250</td>\n",
       "      <td>JohnTessandori3</td>\n",
       "      <td>2021-02-27 02:20:00</td>\n",
       "      <td>RT @shannonmstirone: Thanks to everyone for re...</td>\n",
       "    </tr>\n",
       "    <tr>\n",
       "      <th>3</th>\n",
       "      <td>1365486791172575237</td>\n",
       "      <td>William64473005</td>\n",
       "      <td>2021-02-27 02:19:55</td>\n",
       "      <td>RT @business: Unless you’re Elon Musk, you sho...</td>\n",
       "    </tr>\n",
       "    <tr>\n",
       "      <th>4</th>\n",
       "      <td>1365486761116327936</td>\n",
       "      <td>Jennife46309416</td>\n",
       "      <td>2021-02-27 02:19:48</td>\n",
       "      <td>RT @APompliano: Tesla bought $1.5 billion of B...</td>\n",
       "    </tr>\n",
       "    <tr>\n",
       "      <th>...</th>\n",
       "      <td>...</td>\n",
       "      <td>...</td>\n",
       "      <td>...</td>\n",
       "      <td>...</td>\n",
       "    </tr>\n",
       "    <tr>\n",
       "      <th>95</th>\n",
       "      <td>1365481885485305856</td>\n",
       "      <td>akevinhao</td>\n",
       "      <td>2021-02-27 02:00:25</td>\n",
       "      <td>@cryptoccybtc @elonmusk If the DOGE pump $ 10,...</td>\n",
       "    </tr>\n",
       "    <tr>\n",
       "      <th>96</th>\n",
       "      <td>1365481873670045697</td>\n",
       "      <td>jimkhm</td>\n",
       "      <td>2021-02-27 02:00:22</td>\n",
       "      <td>RT @stlouisbiz: The Cortex-based medical devic...</td>\n",
       "    </tr>\n",
       "    <tr>\n",
       "      <th>97</th>\n",
       "      <td>1365481871497289729</td>\n",
       "      <td>caberc65</td>\n",
       "      <td>2021-02-27 02:00:22</td>\n",
       "      <td>Elon Musk confirms Tesla plant closure amid st...</td>\n",
       "    </tr>\n",
       "    <tr>\n",
       "      <th>98</th>\n",
       "      <td>1365481827042025472</td>\n",
       "      <td>stlouisbiz</td>\n",
       "      <td>2021-02-27 02:00:11</td>\n",
       "      <td>The Cortex-based medical device company said i...</td>\n",
       "    </tr>\n",
       "    <tr>\n",
       "      <th>99</th>\n",
       "      <td>1365481811279810564</td>\n",
       "      <td>CowboySciFiBot</td>\n",
       "      <td>2021-02-27 02:00:07</td>\n",
       "      <td>RT @iamtinthel: 🚀New Single: @elonmusk by Tint...</td>\n",
       "    </tr>\n",
       "  </tbody>\n",
       "</table>\n",
       "<p>100 rows × 4 columns</p>\n",
       "</div>"
      ],
      "text/plain": [
       "                     ID        User Name           Date Time  \\\n",
       "0   1365486858990473221    Cesar17569880 2021-02-27 02:20:11   \n",
       "1   1365486848852721664  globalfirstnews 2021-02-27 02:20:08   \n",
       "2   1365486811796021250  JohnTessandori3 2021-02-27 02:20:00   \n",
       "3   1365486791172575237  William64473005 2021-02-27 02:19:55   \n",
       "4   1365486761116327936  Jennife46309416 2021-02-27 02:19:48   \n",
       "..                  ...              ...                 ...   \n",
       "95  1365481885485305856        akevinhao 2021-02-27 02:00:25   \n",
       "96  1365481873670045697           jimkhm 2021-02-27 02:00:22   \n",
       "97  1365481871497289729         caberc65 2021-02-27 02:00:22   \n",
       "98  1365481827042025472       stlouisbiz 2021-02-27 02:00:11   \n",
       "99  1365481811279810564   CowboySciFiBot 2021-02-27 02:00:07   \n",
       "\n",
       "                                         Actual tweet  \n",
       "0   @nypost Who cares what she thinks.. its not li...  \n",
       "1   SpaceX is about to reattempt a high-altitude f...  \n",
       "2   RT @shannonmstirone: Thanks to everyone for re...  \n",
       "3   RT @business: Unless you’re Elon Musk, you sho...  \n",
       "4   RT @APompliano: Tesla bought $1.5 billion of B...  \n",
       "..                                                ...  \n",
       "95  @cryptoccybtc @elonmusk If the DOGE pump $ 10,...  \n",
       "96  RT @stlouisbiz: The Cortex-based medical devic...  \n",
       "97  Elon Musk confirms Tesla plant closure amid st...  \n",
       "98  The Cortex-based medical device company said i...  \n",
       "99  RT @iamtinthel: 🚀New Single: @elonmusk by Tint...  \n",
       "\n",
       "[100 rows x 4 columns]"
      ]
     },
     "execution_count": 29,
     "metadata": {},
     "output_type": "execute_result"
    }
   ],
   "source": [
    "df"
   ]
  },
  {
   "cell_type": "code",
   "execution_count": null,
   "metadata": {},
   "outputs": [],
   "source": []
  }
 ],
 "metadata": {
  "kernelspec": {
   "display_name": "Python 3",
   "language": "python",
   "name": "python3"
  },
  "language_info": {
   "codemirror_mode": {
    "name": "ipython",
    "version": 3
   },
   "file_extension": ".py",
   "mimetype": "text/x-python",
   "name": "python",
   "nbconvert_exporter": "python",
   "pygments_lexer": "ipython3",
   "version": "3.8.5"
  }
 },
 "nbformat": 4,
 "nbformat_minor": 4
}
 
